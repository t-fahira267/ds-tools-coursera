{
 "cells": [
  {
   "cell_type": "markdown",
   "id": "928bb399-b78d-46da-9582-df0e061faff5",
   "metadata": {},
   "source": [
    "# Data Science Tools and Ecosystem"
   ]
  },
  {
   "cell_type": "markdown",
   "id": "b67ec68c-9eae-44c4-ad6e-84978aff48a4",
   "metadata": {},
   "source": [
    "In this notebook, Data Science Tools and Ecosystem are summarized."
   ]
  },
  {
   "cell_type": "markdown",
   "id": "2ee377a1-3f3a-4a9c-8102-da251fbf2dd2",
   "metadata": {},
   "source": [
    "**Objectives:**\n",
    "- List some popular languages for data science\n",
    "- List some commonly used libraries for data science\n",
    "- List some data science tools"
   ]
  },
  {
   "cell_type": "markdown",
   "id": "84bffdee-77c8-441a-8843-3670855b835a",
   "metadata": {},
   "source": [
    "Some of the popular languages that Data Scientists use are:\n",
    "1. R\n",
    "2. Python\n",
    "3. SQL\n",
    "4. Julia\n",
    "5. Scala\n",
    "6. Java\n",
    "7. C++\n",
    "8. JavaScript"
   ]
  },
  {
   "cell_type": "markdown",
   "id": "8a5becce-8669-4989-b989-1a7d6c6d8e91",
   "metadata": {},
   "source": [
    "Some of the libraries commonly used by Data Scientists include:\n",
    "1. ggplot\n",
    "2. Caret\n",
    "3. Pandas\n",
    "4. Numpy\n",
    "5. TensorFlow\n",
    "6. Scikit-learn"
   ]
  },
  {
   "cell_type": "markdown",
   "id": "06c51e48-4723-4c55-ac11-8d22e974bd8f",
   "metadata": {},
   "source": [
    "| Data Science Tools |\n",
    "| ------------------ |\n",
    "| R Studio |\n",
    "| Jupyter Notebook |\n",
    "| JupyterLab |\n",
    "| Visual Studio Code |\n",
    "| IBM Watson Studio |"
   ]
  },
  {
   "cell_type": "markdown",
   "id": "994c9389-7e59-44b9-9407-3b19044ba451",
   "metadata": {
    "tags": []
   },
   "source": [
    "### Below are a few examples of evaluating arithmetic expressions in Python."
   ]
  },
  {
   "cell_type": "code",
   "execution_count": 2,
   "id": "1394c5f9-5611-470c-a97b-7567799baa7c",
   "metadata": {
    "tags": []
   },
   "outputs": [
    {
     "data": {
      "text/plain": [
       "17"
      ]
     },
     "execution_count": 2,
     "metadata": {},
     "output_type": "execute_result"
    }
   ],
   "source": [
    "# This is a simple arithmetic expression to multiply \n",
    "    ## then add integers\n",
    "(3*4)+5"
   ]
  },
  {
   "cell_type": "code",
   "execution_count": 3,
   "id": "a8514870-2b5c-4a39-94d6-b354e7a4184d",
   "metadata": {
    "tags": []
   },
   "outputs": [
    {
     "data": {
      "text/plain": [
       "3.3333333333333335"
      ]
     },
     "execution_count": 3,
     "metadata": {},
     "output_type": "execute_result"
    }
   ],
   "source": [
    "# This will convert 200 minutes to hours by dividing by 60\n",
    "minutes = 200\n",
    "hours = minutes / 60\n",
    "hours"
   ]
  },
  {
   "cell_type": "markdown",
   "id": "1e3f63bb-ada5-4338-bfd2-632990f7bdc6",
   "metadata": {},
   "source": [
    "## Author\n",
    "Tasha Fahira"
   ]
  },
  {
   "cell_type": "code",
   "execution_count": null,
   "id": "843a7c83-90b3-436c-9f08-0acf409e03f8",
   "metadata": {},
   "outputs": [],
   "source": []
  }
 ],
 "metadata": {
  "kernelspec": {
   "display_name": "Python 3 (ipykernel)",
   "language": "python",
   "name": "python3"
  },
  "language_info": {
   "codemirror_mode": {
    "name": "ipython",
    "version": 3
   },
   "file_extension": ".py",
   "mimetype": "text/x-python",
   "name": "python",
   "nbconvert_exporter": "python",
   "pygments_lexer": "ipython3",
   "version": "3.11.3"
  }
 },
 "nbformat": 4,
 "nbformat_minor": 5
}
